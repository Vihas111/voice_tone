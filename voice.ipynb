{
 "cells": [
  {
   "cell_type": "code",
   "execution_count": 9,
   "id": "681b754b",
   "metadata": {},
   "outputs": [
    {
     "name": "stdout",
     "output_type": "stream",
     "text": [
      "0.11.0\n"
     ]
    }
   ],
   "source": [
    "import librosa\n",
    "print(librosa.__version__)\n"
   ]
  },
  {
   "cell_type": "code",
   "execution_count": 2,
   "id": "d5628644",
   "metadata": {},
   "outputs": [
    {
     "name": "stderr",
     "output_type": "stream",
     "text": [
      "C:\\Users\\Vihas\\AppData\\Local\\Temp\\ipykernel_35524\\2155340014.py:32: FutureWarning: You are using `torch.load` with `weights_only=False` (the current default value), which uses the default pickle module implicitly. It is possible to construct malicious pickle data which will execute arbitrary code during unpickling (See https://github.com/pytorch/pytorch/blob/main/SECURITY.md#untrusted-models for more details). In a future release, the default value for `weights_only` will be flipped to `True`. This limits the functions that could be executed during unpickling. Arbitrary objects will no longer be allowed to be loaded via this mode unless they are explicitly allowlisted by the user via `torch.serialization.add_safe_globals`. We recommend you start setting `weights_only=True` for any use case where you don't have full control of the loaded file. Please open an issue on GitHub for any issues related to this experimental feature.\n",
      "  model.load_state_dict(torch.load(MODEL_PATH))\n"
     ]
    },
    {
     "name": "stdout",
     "output_type": "stream",
     "text": [
      "Press 'r' to record 3 seconds of your voice...\n",
      "Recording for 3 seconds...\n",
      "Predicted Emotion: fearful\n",
      "Recording for 3 seconds...\n",
      "Predicted Emotion: happy\n",
      "Recording for 3 seconds...\n",
      "Predicted Emotion: calm\n",
      "Recording for 3 seconds...\n",
      "Predicted Emotion: disgust\n",
      "Exiting...\n"
     ]
    }
   ],
   "source": [
    "import torch\n",
    "import torch.nn as nn\n",
    "import torchaudio\n",
    "import sounddevice as sd\n",
    "import numpy as np\n",
    "import librosa\n",
    "import os\n",
    "\n",
    "# ========== Define the CNN Model ==========\n",
    "class EmotionCNN(nn.Module):\n",
    "    def __init__(self):\n",
    "        super(EmotionCNN, self).__init__()\n",
    "        self.model = nn.Sequential(\n",
    "            nn.Conv2d(1, 16, kernel_size=3, stride=1, padding=1),\n",
    "            nn.ReLU(),\n",
    "            nn.MaxPool2d(2, 2),\n",
    "            nn.Conv2d(16, 32, kernel_size=3, stride=1, padding=1),\n",
    "            nn.ReLU(),\n",
    "            nn.MaxPool2d(2, 2),\n",
    "            nn.Flatten(),\n",
    "            nn.Linear(32 * 32 * 32, 128),   # CHANGED from 64 → 128\n",
    "            nn.ReLU(),\n",
    "            nn.Linear(128, 8)               # CHANGED from 64 → 128 input\n",
    "        )\n",
    "\n",
    "    def forward(self, x):\n",
    "        return self.model(x)\n",
    "\n",
    "# ========== Load Model ==========\n",
    "MODEL_PATH = r\"C:\\Users\\Vihas\\Documents\\Pytesting\\voice_tone\\emotion_model.pth\"\n",
    "model = EmotionCNN()\n",
    "model.load_state_dict(torch.load(MODEL_PATH))\n",
    "model.eval()\n",
    "\n",
    "# ========== Emotion Label Mapping ==========\n",
    "emotion_labels = ['neutral', 'calm', 'happy', 'sad', 'angry', 'fearful', 'disgust', 'surprised']\n",
    "\n",
    "# ========== Mel Spectrogram Extraction ==========\n",
    "def extract_mel(y, sr=22050):\n",
    "    mel = librosa.feature.melspectrogram(y=y, sr=sr, n_mels=128)\n",
    "    mel_db = librosa.power_to_db(mel, ref=np.max)\n",
    "    mel_db = mel_db[:, :128]  # Ensure consistent shape\n",
    "    return mel_db\n",
    "\n",
    "\n",
    "# ========== Main Loop ==========\n",
    "print(\"Press 'r' to record 3 seconds of your voice...\")\n",
    "\n",
    "while True:\n",
    "    key = input(\"Press 'r' to record or 'q' to quit: \").strip().lower()\n",
    "\n",
    "    if key == 'q':\n",
    "        print(\"Exiting...\")\n",
    "        break\n",
    "\n",
    "    elif key == 'r':\n",
    "        print(\"Recording for 3 seconds...\")\n",
    "        duration = 3  # seconds\n",
    "        sr = 22050\n",
    "\n",
    "        recording = sd.rec(int(duration * sr), samplerate=sr, channels=1)\n",
    "        sd.wait()\n",
    "        y = recording.flatten()\n",
    "\n",
    "        mel = extract_mel(y, sr)\n",
    "\n",
    "        # Normalize and prepare for model\n",
    "        mel_tensor = torch.tensor(mel).unsqueeze(0).unsqueeze(0).float()  # Shape: [1, 1, 128, 128]\n",
    "\n",
    "        # Predict\n",
    "        with torch.no_grad():\n",
    "            output = model(mel_tensor)\n",
    "            predicted = torch.argmax(output, dim=1).item()\n",
    "            emotion = emotion_labels[predicted]\n",
    "\n",
    "        print(f\"Predicted Emotion: {emotion}\")\n"
   ]
  },
  {
   "cell_type": "code",
   "execution_count": null,
   "id": "cc7d8043",
   "metadata": {},
   "outputs": [],
   "source": []
  }
 ],
 "metadata": {
  "kernelspec": {
   "display_name": "cuda",
   "language": "python",
   "name": "python3"
  },
  "language_info": {
   "codemirror_mode": {
    "name": "ipython",
    "version": 3
   },
   "file_extension": ".py",
   "mimetype": "text/x-python",
   "name": "python",
   "nbconvert_exporter": "python",
   "pygments_lexer": "ipython3",
   "version": "3.10.16"
  }
 },
 "nbformat": 4,
 "nbformat_minor": 5
}
